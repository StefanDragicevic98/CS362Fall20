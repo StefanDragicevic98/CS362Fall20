{
 "cells": [
  {
   "cell_type": "markdown",
   "metadata": {},
   "source": [
    "# Runtime Efficiency and the *size* of the input"
   ]
  },
  {
   "cell_type": "markdown",
   "metadata": {},
   "source": [
    "Write a function `find` that takes a list and returns the index of the first occurrence of a key in the list. If the key does not occur in the list then -1 is rturned.  For example, the following are all true\n",
    "\n",
    "```Python\n",
    "lst = [99, 5, -3]\n",
    "print(find(lst, 99) == 0)    # 99 is at index 0\n",
    "print(find(lst, -3) == 2)    # -3 is at index 2\n",
    "print(find(lst, 27) == -1)   # 27 is not in the list\n",
    "```\n"
   ]
  },
  {
   "cell_type": "code",
   "execution_count": 2,
   "metadata": {},
   "outputs": [],
   "source": [
    "def find(lst, key):\n",
    "    loc = -1\n",
    "    \n",
    "    for i in range(len(lst)):\n",
    "        if key == lst[i]:\n",
    "            loc = i\n",
    "    return loc"
   ]
  },
  {
   "cell_type": "markdown",
   "metadata": {},
   "source": [
    "Let $n$ be the length of the list then find is $O(n)$. "
   ]
  },
  {
   "cell_type": "code",
   "execution_count": 6,
   "metadata": {},
   "outputs": [
    {
     "name": "stdout",
     "output_type": "stream",
     "text": [
      "False\n",
      "True\n",
      "True\n"
     ]
    }
   ],
   "source": [
    "lst = [99, 5, -3, 99]\n",
    "print(find(lst, 99) == 0)\n",
    "print(find(lst, -3) == 2)\n",
    "print(find(lst, 27) == -1)"
   ]
  },
  {
   "cell_type": "markdown",
   "metadata": {},
   "source": [
    "Subtle bug was that find returns the index of the *last* occcurrence, not the first."
   ]
  },
  {
   "cell_type": "code",
   "execution_count": 7,
   "metadata": {},
   "outputs": [],
   "source": [
    "def find(lst, key):\n",
    "    loc = -1\n",
    "    \n",
    "    for i in range(len(lst)):\n",
    "        if key == lst[i]:\n",
    "            return i\n",
    "    return loc"
   ]
  },
  {
   "cell_type": "code",
   "execution_count": 8,
   "metadata": {},
   "outputs": [
    {
     "name": "stdout",
     "output_type": "stream",
     "text": [
      "True\n",
      "True\n",
      "True\n"
     ]
    }
   ],
   "source": [
    "lst = [99, 5, -3, 99]\n",
    "print(find(lst, 99) == 0)\n",
    "print(find(lst, -3) == 2)\n",
    "print(find(lst, 27) == -1)"
   ]
  },
  {
   "cell_type": "markdown",
   "metadata": {},
   "source": [
    "+ Worst case efficiency\n",
    "+ Average case\n",
    "+ Best Case"
   ]
  },
  {
   "cell_type": "markdown",
   "metadata": {},
   "source": [
    "Assume the the key is in the list and it has equal chance (probability) of being in any location.\n",
    "$(1 + 2 + 3 + ... + n)/n = n(n+1)/2/n = (n+1)/2$ is   $O(n)$."
   ]
  },
  {
   "cell_type": "code",
   "execution_count": null,
   "metadata": {},
   "outputs": [],
   "source": []
  }
 ],
 "metadata": {
  "kernelspec": {
   "display_name": "Python 3",
   "language": "python",
   "name": "python3"
  },
  "language_info": {
   "codemirror_mode": {
    "name": "ipython",
    "version": 3
   },
   "file_extension": ".py",
   "mimetype": "text/x-python",
   "name": "python",
   "nbconvert_exporter": "python",
   "pygments_lexer": "ipython3",
   "version": "3.8.3"
  }
 },
 "nbformat": 4,
 "nbformat_minor": 4
}
